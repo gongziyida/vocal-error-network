{
 "cells": [
  {
   "cell_type": "code",
   "execution_count": 94,
   "id": "f9399208-c131-47eb-8bca-c75a64c7381a",
   "metadata": {},
   "outputs": [],
   "source": [
    "import sys\n",
    "sys.path.append('../src')\n",
    "from tqdm import tqdm\n",
    "import numpy as np\n",
    "import torch\n",
    "import torch.nn as nn\n",
    "import matplotlib.pyplot as plt\n",
    "from scipy.special import erfinv\n",
    "from sparse_coding_model import SparseCoding, normalize01\n",
    "from utils import *\n",
    "from train_funcs import load_models, generate_HVC\n",
    "from sklearn.decomposition import DictionaryLearning\n",
    "rng = np.random.default_rng()"
   ]
  },
  {
   "cell_type": "code",
   "execution_count": 95,
   "id": "fd6d56fc-c94e-41c8-8c2e-c5344eb34952",
   "metadata": {
    "scrolled": true
   },
   "outputs": [],
   "source": [
    "fname = '../realistic_auditory_processing/learned_song_responses.npz'\n",
    "T_SONG = np.load(fname)['ctrl'].shape[2] # (n_songs, N, T)"
   ]
  },
  {
   "cell_type": "code",
   "execution_count": 96,
   "id": "741f8fc1-3add-45de-9020-46bb201bd10f",
   "metadata": {
    "scrolled": true
   },
   "outputs": [],
   "source": [
    "adult = dict(np.load('../adult_songs/data.npz'))\n",
    "n_samples, n_syl, n_freq_bins, n_time_bins = adult['spec_syl'].shape\n",
    "# xmin = adult['spec_syl'].min(axis=(0,2,3), keepdims=True) # syl-wise norm\n",
    "# xmax = adult['spec_syl'].max(axis=(0,2,3), keepdims=True)\n",
    "# adult['spec_syl'] = (adult['spec_syl'] - xmin) / (xmax - xmin)"
   ]
  },
  {
   "cell_type": "code",
   "execution_count": 97,
   "id": "04e694f4-a67b-41c6-84e1-1a3ae1430e46",
   "metadata": {},
   "outputs": [
    {
     "ename": "KeyboardInterrupt",
     "evalue": "",
     "output_type": "error",
     "traceback": [
      "\u001b[0;31m---------------------------------------------------------------------------\u001b[0m",
      "\u001b[0;31mKeyboardInterrupt\u001b[0m                         Traceback (most recent call last)",
      "Cell \u001b[0;32mIn[97], line 8\u001b[0m\n\u001b[1;32m      4\u001b[0m dl \u001b[38;5;241m=\u001b[39m DictionaryLearning(n_components\u001b[38;5;241m=\u001b[39mn_basis, alpha\u001b[38;5;241m=\u001b[39m\u001b[38;5;241m0.1\u001b[39m, fit_algorithm\u001b[38;5;241m=\u001b[39m\u001b[38;5;124m'\u001b[39m\u001b[38;5;124mcd\u001b[39m\u001b[38;5;124m'\u001b[39m, \n\u001b[1;32m      5\u001b[0m                         positive_code\u001b[38;5;241m=\u001b[39m\u001b[38;5;28;01mTrue\u001b[39;00m, positive_dict\u001b[38;5;241m=\u001b[39m\u001b[38;5;28;01mTrue\u001b[39;00m)\n\u001b[1;32m      6\u001b[0m aux \u001b[38;5;241m=\u001b[39m np\u001b[38;5;241m.\u001b[39mconcatenate([adult[\u001b[38;5;124m'\u001b[39m\u001b[38;5;124mspec_syl\u001b[39m\u001b[38;5;124m'\u001b[39m][:,i]\u001b[38;5;241m.\u001b[39mreshape(n_samples, \u001b[38;5;241m-\u001b[39m\u001b[38;5;241m1\u001b[39m) \n\u001b[1;32m      7\u001b[0m                       \u001b[38;5;28;01mfor\u001b[39;00m i \u001b[38;5;129;01min\u001b[39;00m \u001b[38;5;28mrange\u001b[39m(n_syl)])\n\u001b[0;32m----> 8\u001b[0m coefs \u001b[38;5;241m=\u001b[39m \u001b[43mdl\u001b[49m\u001b[38;5;241;43m.\u001b[39;49m\u001b[43mfit_transform\u001b[49m\u001b[43m(\u001b[49m\u001b[43maux\u001b[49m\u001b[43m)\u001b[49m\n\u001b[1;32m      9\u001b[0m a_std \u001b[38;5;241m=\u001b[39m coefs\u001b[38;5;241m.\u001b[39mstd(axis\u001b[38;5;241m=\u001b[39m\u001b[38;5;241m0\u001b[39m)[\u001b[38;5;28;01mNone\u001b[39;00m,:]\n\u001b[1;32m     10\u001b[0m coefs\u001b[38;5;241m/\u001b[39m\u001b[38;5;241m=\u001b[39m a_std\n",
      "File \u001b[0;32m~/.local/lib/python3.10/site-packages/sklearn/utils/_set_output.py:313\u001b[0m, in \u001b[0;36m_wrap_method_output.<locals>.wrapped\u001b[0;34m(self, X, *args, **kwargs)\u001b[0m\n\u001b[1;32m    311\u001b[0m \u001b[38;5;129m@wraps\u001b[39m(f)\n\u001b[1;32m    312\u001b[0m \u001b[38;5;28;01mdef\u001b[39;00m \u001b[38;5;21mwrapped\u001b[39m(\u001b[38;5;28mself\u001b[39m, X, \u001b[38;5;241m*\u001b[39margs, \u001b[38;5;241m*\u001b[39m\u001b[38;5;241m*\u001b[39mkwargs):\n\u001b[0;32m--> 313\u001b[0m     data_to_wrap \u001b[38;5;241m=\u001b[39m \u001b[43mf\u001b[49m\u001b[43m(\u001b[49m\u001b[38;5;28;43mself\u001b[39;49m\u001b[43m,\u001b[49m\u001b[43m \u001b[49m\u001b[43mX\u001b[49m\u001b[43m,\u001b[49m\u001b[43m \u001b[49m\u001b[38;5;241;43m*\u001b[39;49m\u001b[43margs\u001b[49m\u001b[43m,\u001b[49m\u001b[43m \u001b[49m\u001b[38;5;241;43m*\u001b[39;49m\u001b[38;5;241;43m*\u001b[39;49m\u001b[43mkwargs\u001b[49m\u001b[43m)\u001b[49m\n\u001b[1;32m    314\u001b[0m     \u001b[38;5;28;01mif\u001b[39;00m \u001b[38;5;28misinstance\u001b[39m(data_to_wrap, \u001b[38;5;28mtuple\u001b[39m):\n\u001b[1;32m    315\u001b[0m         \u001b[38;5;66;03m# only wrap the first output for cross decomposition\u001b[39;00m\n\u001b[1;32m    316\u001b[0m         return_tuple \u001b[38;5;241m=\u001b[39m (\n\u001b[1;32m    317\u001b[0m             _wrap_data_with_container(method, data_to_wrap[\u001b[38;5;241m0\u001b[39m], X, \u001b[38;5;28mself\u001b[39m),\n\u001b[1;32m    318\u001b[0m             \u001b[38;5;241m*\u001b[39mdata_to_wrap[\u001b[38;5;241m1\u001b[39m:],\n\u001b[1;32m    319\u001b[0m         )\n",
      "File \u001b[0;32m~/.local/lib/python3.10/site-packages/sklearn/base.py:1473\u001b[0m, in \u001b[0;36m_fit_context.<locals>.decorator.<locals>.wrapper\u001b[0;34m(estimator, *args, **kwargs)\u001b[0m\n\u001b[1;32m   1466\u001b[0m     estimator\u001b[38;5;241m.\u001b[39m_validate_params()\n\u001b[1;32m   1468\u001b[0m \u001b[38;5;28;01mwith\u001b[39;00m config_context(\n\u001b[1;32m   1469\u001b[0m     skip_parameter_validation\u001b[38;5;241m=\u001b[39m(\n\u001b[1;32m   1470\u001b[0m         prefer_skip_nested_validation \u001b[38;5;129;01mor\u001b[39;00m global_skip_validation\n\u001b[1;32m   1471\u001b[0m     )\n\u001b[1;32m   1472\u001b[0m ):\n\u001b[0;32m-> 1473\u001b[0m     \u001b[38;5;28;01mreturn\u001b[39;00m \u001b[43mfit_method\u001b[49m\u001b[43m(\u001b[49m\u001b[43mestimator\u001b[49m\u001b[43m,\u001b[49m\u001b[43m \u001b[49m\u001b[38;5;241;43m*\u001b[39;49m\u001b[43margs\u001b[49m\u001b[43m,\u001b[49m\u001b[43m \u001b[49m\u001b[38;5;241;43m*\u001b[39;49m\u001b[38;5;241;43m*\u001b[39;49m\u001b[43mkwargs\u001b[49m\u001b[43m)\u001b[49m\n",
      "File \u001b[0;32m~/.local/lib/python3.10/site-packages/sklearn/decomposition/_dict_learning.py:1681\u001b[0m, in \u001b[0;36mDictionaryLearning.fit_transform\u001b[0;34m(self, X, y)\u001b[0m\n\u001b[1;32m   1678\u001b[0m \u001b[38;5;28;01melse\u001b[39;00m:\n\u001b[1;32m   1679\u001b[0m     n_components \u001b[38;5;241m=\u001b[39m \u001b[38;5;28mself\u001b[39m\u001b[38;5;241m.\u001b[39mn_components\n\u001b[0;32m-> 1681\u001b[0m V, U, E, \u001b[38;5;28mself\u001b[39m\u001b[38;5;241m.\u001b[39mn_iter_ \u001b[38;5;241m=\u001b[39m \u001b[43m_dict_learning\u001b[49m\u001b[43m(\u001b[49m\n\u001b[1;32m   1682\u001b[0m \u001b[43m    \u001b[49m\u001b[43mX\u001b[49m\u001b[43m,\u001b[49m\n\u001b[1;32m   1683\u001b[0m \u001b[43m    \u001b[49m\u001b[43mn_components\u001b[49m\u001b[43m,\u001b[49m\n\u001b[1;32m   1684\u001b[0m \u001b[43m    \u001b[49m\u001b[43malpha\u001b[49m\u001b[38;5;241;43m=\u001b[39;49m\u001b[38;5;28;43mself\u001b[39;49m\u001b[38;5;241;43m.\u001b[39;49m\u001b[43malpha\u001b[49m\u001b[43m,\u001b[49m\n\u001b[1;32m   1685\u001b[0m \u001b[43m    \u001b[49m\u001b[43mtol\u001b[49m\u001b[38;5;241;43m=\u001b[39;49m\u001b[38;5;28;43mself\u001b[39;49m\u001b[38;5;241;43m.\u001b[39;49m\u001b[43mtol\u001b[49m\u001b[43m,\u001b[49m\n\u001b[1;32m   1686\u001b[0m \u001b[43m    \u001b[49m\u001b[43mmax_iter\u001b[49m\u001b[38;5;241;43m=\u001b[39;49m\u001b[38;5;28;43mself\u001b[39;49m\u001b[38;5;241;43m.\u001b[39;49m\u001b[43mmax_iter\u001b[49m\u001b[43m,\u001b[49m\n\u001b[1;32m   1687\u001b[0m \u001b[43m    \u001b[49m\u001b[43mmethod\u001b[49m\u001b[38;5;241;43m=\u001b[39;49m\u001b[43mmethod\u001b[49m\u001b[43m,\u001b[49m\n\u001b[1;32m   1688\u001b[0m \u001b[43m    \u001b[49m\u001b[43mmethod_max_iter\u001b[49m\u001b[38;5;241;43m=\u001b[39;49m\u001b[38;5;28;43mself\u001b[39;49m\u001b[38;5;241;43m.\u001b[39;49m\u001b[43mtransform_max_iter\u001b[49m\u001b[43m,\u001b[49m\n\u001b[1;32m   1689\u001b[0m \u001b[43m    \u001b[49m\u001b[43mn_jobs\u001b[49m\u001b[38;5;241;43m=\u001b[39;49m\u001b[38;5;28;43mself\u001b[39;49m\u001b[38;5;241;43m.\u001b[39;49m\u001b[43mn_jobs\u001b[49m\u001b[43m,\u001b[49m\n\u001b[1;32m   1690\u001b[0m \u001b[43m    \u001b[49m\u001b[43mcode_init\u001b[49m\u001b[38;5;241;43m=\u001b[39;49m\u001b[38;5;28;43mself\u001b[39;49m\u001b[38;5;241;43m.\u001b[39;49m\u001b[43mcode_init\u001b[49m\u001b[43m,\u001b[49m\n\u001b[1;32m   1691\u001b[0m \u001b[43m    \u001b[49m\u001b[43mdict_init\u001b[49m\u001b[38;5;241;43m=\u001b[39;49m\u001b[38;5;28;43mself\u001b[39;49m\u001b[38;5;241;43m.\u001b[39;49m\u001b[43mdict_init\u001b[49m\u001b[43m,\u001b[49m\n\u001b[1;32m   1692\u001b[0m \u001b[43m    \u001b[49m\u001b[43mcallback\u001b[49m\u001b[38;5;241;43m=\u001b[39;49m\u001b[38;5;28;43mself\u001b[39;49m\u001b[38;5;241;43m.\u001b[39;49m\u001b[43mcallback\u001b[49m\u001b[43m,\u001b[49m\n\u001b[1;32m   1693\u001b[0m \u001b[43m    \u001b[49m\u001b[43mverbose\u001b[49m\u001b[38;5;241;43m=\u001b[39;49m\u001b[38;5;28;43mself\u001b[39;49m\u001b[38;5;241;43m.\u001b[39;49m\u001b[43mverbose\u001b[49m\u001b[43m,\u001b[49m\n\u001b[1;32m   1694\u001b[0m \u001b[43m    \u001b[49m\u001b[43mrandom_state\u001b[49m\u001b[38;5;241;43m=\u001b[39;49m\u001b[43mrandom_state\u001b[49m\u001b[43m,\u001b[49m\n\u001b[1;32m   1695\u001b[0m \u001b[43m    \u001b[49m\u001b[43mreturn_n_iter\u001b[49m\u001b[38;5;241;43m=\u001b[39;49m\u001b[38;5;28;43;01mTrue\u001b[39;49;00m\u001b[43m,\u001b[49m\n\u001b[1;32m   1696\u001b[0m \u001b[43m    \u001b[49m\u001b[43mpositive_dict\u001b[49m\u001b[38;5;241;43m=\u001b[39;49m\u001b[38;5;28;43mself\u001b[39;49m\u001b[38;5;241;43m.\u001b[39;49m\u001b[43mpositive_dict\u001b[49m\u001b[43m,\u001b[49m\n\u001b[1;32m   1697\u001b[0m \u001b[43m    \u001b[49m\u001b[43mpositive_code\u001b[49m\u001b[38;5;241;43m=\u001b[39;49m\u001b[38;5;28;43mself\u001b[39;49m\u001b[38;5;241;43m.\u001b[39;49m\u001b[43mpositive_code\u001b[49m\u001b[43m,\u001b[49m\n\u001b[1;32m   1698\u001b[0m \u001b[43m\u001b[49m\u001b[43m)\u001b[49m\n\u001b[1;32m   1699\u001b[0m \u001b[38;5;28mself\u001b[39m\u001b[38;5;241m.\u001b[39mcomponents_ \u001b[38;5;241m=\u001b[39m U\n\u001b[1;32m   1700\u001b[0m \u001b[38;5;28mself\u001b[39m\u001b[38;5;241m.\u001b[39merror_ \u001b[38;5;241m=\u001b[39m E\n",
      "File \u001b[0;32m~/.local/lib/python3.10/site-packages/sklearn/decomposition/_dict_learning.py:620\u001b[0m, in \u001b[0;36m_dict_learning\u001b[0;34m(X, n_components, alpha, max_iter, tol, method, n_jobs, dict_init, code_init, callback, verbose, random_state, return_n_iter, positive_dict, positive_code, method_max_iter)\u001b[0m\n\u001b[1;32m    614\u001b[0m     \u001b[38;5;28mprint\u001b[39m(\n\u001b[1;32m    615\u001b[0m         \u001b[38;5;124m\"\u001b[39m\u001b[38;5;124mIteration \u001b[39m\u001b[38;5;132;01m% 3i\u001b[39;00m\u001b[38;5;124m (elapsed time: \u001b[39m\u001b[38;5;132;01m% 3i\u001b[39;00m\u001b[38;5;124ms, \u001b[39m\u001b[38;5;132;01m% 4.1f\u001b[39;00m\u001b[38;5;124mmn, current cost \u001b[39m\u001b[38;5;132;01m% 7.3f\u001b[39;00m\u001b[38;5;124m)\u001b[39m\u001b[38;5;124m\"\u001b[39m\n\u001b[1;32m    616\u001b[0m         \u001b[38;5;241m%\u001b[39m (ii, dt, dt \u001b[38;5;241m/\u001b[39m \u001b[38;5;241m60\u001b[39m, current_cost)\n\u001b[1;32m    617\u001b[0m     )\n\u001b[1;32m    619\u001b[0m \u001b[38;5;66;03m# Update code\u001b[39;00m\n\u001b[0;32m--> 620\u001b[0m code \u001b[38;5;241m=\u001b[39m \u001b[43msparse_encode\u001b[49m\u001b[43m(\u001b[49m\n\u001b[1;32m    621\u001b[0m \u001b[43m    \u001b[49m\u001b[43mX\u001b[49m\u001b[43m,\u001b[49m\n\u001b[1;32m    622\u001b[0m \u001b[43m    \u001b[49m\u001b[43mdictionary\u001b[49m\u001b[43m,\u001b[49m\n\u001b[1;32m    623\u001b[0m \u001b[43m    \u001b[49m\u001b[43malgorithm\u001b[49m\u001b[38;5;241;43m=\u001b[39;49m\u001b[43mmethod\u001b[49m\u001b[43m,\u001b[49m\n\u001b[1;32m    624\u001b[0m \u001b[43m    \u001b[49m\u001b[43malpha\u001b[49m\u001b[38;5;241;43m=\u001b[39;49m\u001b[43malpha\u001b[49m\u001b[43m,\u001b[49m\n\u001b[1;32m    625\u001b[0m \u001b[43m    \u001b[49m\u001b[43minit\u001b[49m\u001b[38;5;241;43m=\u001b[39;49m\u001b[43mcode\u001b[49m\u001b[43m,\u001b[49m\n\u001b[1;32m    626\u001b[0m \u001b[43m    \u001b[49m\u001b[43mn_jobs\u001b[49m\u001b[38;5;241;43m=\u001b[39;49m\u001b[43mn_jobs\u001b[49m\u001b[43m,\u001b[49m\n\u001b[1;32m    627\u001b[0m \u001b[43m    \u001b[49m\u001b[43mpositive\u001b[49m\u001b[38;5;241;43m=\u001b[39;49m\u001b[43mpositive_code\u001b[49m\u001b[43m,\u001b[49m\n\u001b[1;32m    628\u001b[0m \u001b[43m    \u001b[49m\u001b[43mmax_iter\u001b[49m\u001b[38;5;241;43m=\u001b[39;49m\u001b[43mmethod_max_iter\u001b[49m\u001b[43m,\u001b[49m\n\u001b[1;32m    629\u001b[0m \u001b[43m    \u001b[49m\u001b[43mverbose\u001b[49m\u001b[38;5;241;43m=\u001b[39;49m\u001b[43mverbose\u001b[49m\u001b[43m,\u001b[49m\n\u001b[1;32m    630\u001b[0m \u001b[43m\u001b[49m\u001b[43m)\u001b[49m\n\u001b[1;32m    632\u001b[0m \u001b[38;5;66;03m# Update dictionary in place\u001b[39;00m\n\u001b[1;32m    633\u001b[0m _update_dict(\n\u001b[1;32m    634\u001b[0m     dictionary,\n\u001b[1;32m    635\u001b[0m     X,\n\u001b[0;32m   (...)\u001b[0m\n\u001b[1;32m    639\u001b[0m     positive\u001b[38;5;241m=\u001b[39mpositive_dict,\n\u001b[1;32m    640\u001b[0m )\n",
      "File \u001b[0;32m~/.local/lib/python3.10/site-packages/sklearn/utils/_param_validation.py:186\u001b[0m, in \u001b[0;36mvalidate_params.<locals>.decorator.<locals>.wrapper\u001b[0;34m(*args, **kwargs)\u001b[0m\n\u001b[1;32m    184\u001b[0m global_skip_validation \u001b[38;5;241m=\u001b[39m get_config()[\u001b[38;5;124m\"\u001b[39m\u001b[38;5;124mskip_parameter_validation\u001b[39m\u001b[38;5;124m\"\u001b[39m]\n\u001b[1;32m    185\u001b[0m \u001b[38;5;28;01mif\u001b[39;00m global_skip_validation:\n\u001b[0;32m--> 186\u001b[0m     \u001b[38;5;28;01mreturn\u001b[39;00m \u001b[43mfunc\u001b[49m\u001b[43m(\u001b[49m\u001b[38;5;241;43m*\u001b[39;49m\u001b[43margs\u001b[49m\u001b[43m,\u001b[49m\u001b[43m \u001b[49m\u001b[38;5;241;43m*\u001b[39;49m\u001b[38;5;241;43m*\u001b[39;49m\u001b[43mkwargs\u001b[49m\u001b[43m)\u001b[49m\n\u001b[1;32m    188\u001b[0m func_sig \u001b[38;5;241m=\u001b[39m signature(func)\n\u001b[1;32m    190\u001b[0m \u001b[38;5;66;03m# Map *args/**kwargs to the function signature\u001b[39;00m\n",
      "File \u001b[0;32m~/.local/lib/python3.10/site-packages/sklearn/decomposition/_dict_learning.py:377\u001b[0m, in \u001b[0;36msparse_encode\u001b[0;34m(X, dictionary, gram, cov, algorithm, n_nonzero_coefs, alpha, copy_cov, init, max_iter, n_jobs, check_input, verbose, positive)\u001b[0m\n\u001b[1;32m    370\u001b[0m     \u001b[38;5;28;01mraise\u001b[39;00m \u001b[38;5;167;01mValueError\u001b[39;00m(\n\u001b[1;32m    371\u001b[0m         \u001b[38;5;124m\"\u001b[39m\u001b[38;5;124mDictionary and X have different numbers of features:\u001b[39m\u001b[38;5;124m\"\u001b[39m\n\u001b[1;32m    372\u001b[0m         \u001b[38;5;124m\"\u001b[39m\u001b[38;5;124mdictionary.shape: \u001b[39m\u001b[38;5;132;01m{}\u001b[39;00m\u001b[38;5;124m X.shape\u001b[39m\u001b[38;5;132;01m{}\u001b[39;00m\u001b[38;5;124m\"\u001b[39m\u001b[38;5;241m.\u001b[39mformat(dictionary\u001b[38;5;241m.\u001b[39mshape, X\u001b[38;5;241m.\u001b[39mshape)\n\u001b[1;32m    373\u001b[0m     )\n\u001b[1;32m    375\u001b[0m _check_positive_coding(algorithm, positive)\n\u001b[0;32m--> 377\u001b[0m \u001b[38;5;28;01mreturn\u001b[39;00m \u001b[43m_sparse_encode\u001b[49m\u001b[43m(\u001b[49m\n\u001b[1;32m    378\u001b[0m \u001b[43m    \u001b[49m\u001b[43mX\u001b[49m\u001b[43m,\u001b[49m\n\u001b[1;32m    379\u001b[0m \u001b[43m    \u001b[49m\u001b[43mdictionary\u001b[49m\u001b[43m,\u001b[49m\n\u001b[1;32m    380\u001b[0m \u001b[43m    \u001b[49m\u001b[43mgram\u001b[49m\u001b[38;5;241;43m=\u001b[39;49m\u001b[43mgram\u001b[49m\u001b[43m,\u001b[49m\n\u001b[1;32m    381\u001b[0m \u001b[43m    \u001b[49m\u001b[43mcov\u001b[49m\u001b[38;5;241;43m=\u001b[39;49m\u001b[43mcov\u001b[49m\u001b[43m,\u001b[49m\n\u001b[1;32m    382\u001b[0m \u001b[43m    \u001b[49m\u001b[43malgorithm\u001b[49m\u001b[38;5;241;43m=\u001b[39;49m\u001b[43malgorithm\u001b[49m\u001b[43m,\u001b[49m\n\u001b[1;32m    383\u001b[0m \u001b[43m    \u001b[49m\u001b[43mn_nonzero_coefs\u001b[49m\u001b[38;5;241;43m=\u001b[39;49m\u001b[43mn_nonzero_coefs\u001b[49m\u001b[43m,\u001b[49m\n\u001b[1;32m    384\u001b[0m \u001b[43m    \u001b[49m\u001b[43malpha\u001b[49m\u001b[38;5;241;43m=\u001b[39;49m\u001b[43malpha\u001b[49m\u001b[43m,\u001b[49m\n\u001b[1;32m    385\u001b[0m \u001b[43m    \u001b[49m\u001b[43mcopy_cov\u001b[49m\u001b[38;5;241;43m=\u001b[39;49m\u001b[43mcopy_cov\u001b[49m\u001b[43m,\u001b[49m\n\u001b[1;32m    386\u001b[0m \u001b[43m    \u001b[49m\u001b[43minit\u001b[49m\u001b[38;5;241;43m=\u001b[39;49m\u001b[43minit\u001b[49m\u001b[43m,\u001b[49m\n\u001b[1;32m    387\u001b[0m \u001b[43m    \u001b[49m\u001b[43mmax_iter\u001b[49m\u001b[38;5;241;43m=\u001b[39;49m\u001b[43mmax_iter\u001b[49m\u001b[43m,\u001b[49m\n\u001b[1;32m    388\u001b[0m \u001b[43m    \u001b[49m\u001b[43mn_jobs\u001b[49m\u001b[38;5;241;43m=\u001b[39;49m\u001b[43mn_jobs\u001b[49m\u001b[43m,\u001b[49m\n\u001b[1;32m    389\u001b[0m \u001b[43m    \u001b[49m\u001b[43mverbose\u001b[49m\u001b[38;5;241;43m=\u001b[39;49m\u001b[43mverbose\u001b[49m\u001b[43m,\u001b[49m\n\u001b[1;32m    390\u001b[0m \u001b[43m    \u001b[49m\u001b[43mpositive\u001b[49m\u001b[38;5;241;43m=\u001b[39;49m\u001b[43mpositive\u001b[49m\u001b[43m,\u001b[49m\n\u001b[1;32m    391\u001b[0m \u001b[43m\u001b[49m\u001b[43m)\u001b[49m\n",
      "File \u001b[0;32m~/.local/lib/python3.10/site-packages/sklearn/decomposition/_dict_learning.py:432\u001b[0m, in \u001b[0;36m_sparse_encode\u001b[0;34m(X, dictionary, gram, cov, algorithm, n_nonzero_coefs, alpha, copy_cov, init, max_iter, n_jobs, verbose, positive)\u001b[0m\n\u001b[1;32m    429\u001b[0m     cov \u001b[38;5;241m=\u001b[39m np\u001b[38;5;241m.\u001b[39mdot(dictionary, X\u001b[38;5;241m.\u001b[39mT)\n\u001b[1;32m    431\u001b[0m \u001b[38;5;28;01mif\u001b[39;00m effective_n_jobs(n_jobs) \u001b[38;5;241m==\u001b[39m \u001b[38;5;241m1\u001b[39m \u001b[38;5;129;01mor\u001b[39;00m algorithm \u001b[38;5;241m==\u001b[39m \u001b[38;5;124m\"\u001b[39m\u001b[38;5;124mthreshold\u001b[39m\u001b[38;5;124m\"\u001b[39m:\n\u001b[0;32m--> 432\u001b[0m     code \u001b[38;5;241m=\u001b[39m \u001b[43m_sparse_encode_precomputed\u001b[49m\u001b[43m(\u001b[49m\n\u001b[1;32m    433\u001b[0m \u001b[43m        \u001b[49m\u001b[43mX\u001b[49m\u001b[43m,\u001b[49m\n\u001b[1;32m    434\u001b[0m \u001b[43m        \u001b[49m\u001b[43mdictionary\u001b[49m\u001b[43m,\u001b[49m\n\u001b[1;32m    435\u001b[0m \u001b[43m        \u001b[49m\u001b[43mgram\u001b[49m\u001b[38;5;241;43m=\u001b[39;49m\u001b[43mgram\u001b[49m\u001b[43m,\u001b[49m\n\u001b[1;32m    436\u001b[0m \u001b[43m        \u001b[49m\u001b[43mcov\u001b[49m\u001b[38;5;241;43m=\u001b[39;49m\u001b[43mcov\u001b[49m\u001b[43m,\u001b[49m\n\u001b[1;32m    437\u001b[0m \u001b[43m        \u001b[49m\u001b[43malgorithm\u001b[49m\u001b[38;5;241;43m=\u001b[39;49m\u001b[43malgorithm\u001b[49m\u001b[43m,\u001b[49m\n\u001b[1;32m    438\u001b[0m \u001b[43m        \u001b[49m\u001b[43mregularization\u001b[49m\u001b[38;5;241;43m=\u001b[39;49m\u001b[43mregularization\u001b[49m\u001b[43m,\u001b[49m\n\u001b[1;32m    439\u001b[0m \u001b[43m        \u001b[49m\u001b[43mcopy_cov\u001b[49m\u001b[38;5;241;43m=\u001b[39;49m\u001b[43mcopy_cov\u001b[49m\u001b[43m,\u001b[49m\n\u001b[1;32m    440\u001b[0m \u001b[43m        \u001b[49m\u001b[43minit\u001b[49m\u001b[38;5;241;43m=\u001b[39;49m\u001b[43minit\u001b[49m\u001b[43m,\u001b[49m\n\u001b[1;32m    441\u001b[0m \u001b[43m        \u001b[49m\u001b[43mmax_iter\u001b[49m\u001b[38;5;241;43m=\u001b[39;49m\u001b[43mmax_iter\u001b[49m\u001b[43m,\u001b[49m\n\u001b[1;32m    442\u001b[0m \u001b[43m        \u001b[49m\u001b[43mverbose\u001b[49m\u001b[38;5;241;43m=\u001b[39;49m\u001b[43mverbose\u001b[49m\u001b[43m,\u001b[49m\n\u001b[1;32m    443\u001b[0m \u001b[43m        \u001b[49m\u001b[43mpositive\u001b[49m\u001b[38;5;241;43m=\u001b[39;49m\u001b[43mpositive\u001b[49m\u001b[43m,\u001b[49m\n\u001b[1;32m    444\u001b[0m \u001b[43m    \u001b[49m\u001b[43m)\u001b[49m\n\u001b[1;32m    445\u001b[0m     \u001b[38;5;28;01mreturn\u001b[39;00m code\n\u001b[1;32m    447\u001b[0m \u001b[38;5;66;03m# Enter parallel code block\u001b[39;00m\n",
      "File \u001b[0;32m~/.local/lib/python3.10/site-packages/sklearn/decomposition/_dict_learning.py:165\u001b[0m, in \u001b[0;36m_sparse_encode_precomputed\u001b[0;34m(X, dictionary, gram, cov, algorithm, regularization, copy_cov, init, max_iter, verbose, positive)\u001b[0m\n\u001b[1;32m    162\u001b[0m             init \u001b[38;5;241m=\u001b[39m np\u001b[38;5;241m.\u001b[39marray(init)\n\u001b[1;32m    163\u001b[0m         clf\u001b[38;5;241m.\u001b[39mcoef_ \u001b[38;5;241m=\u001b[39m init\n\u001b[0;32m--> 165\u001b[0m     \u001b[43mclf\u001b[49m\u001b[38;5;241;43m.\u001b[39;49m\u001b[43mfit\u001b[49m\u001b[43m(\u001b[49m\u001b[43mdictionary\u001b[49m\u001b[38;5;241;43m.\u001b[39;49m\u001b[43mT\u001b[49m\u001b[43m,\u001b[49m\u001b[43m \u001b[49m\u001b[43mX\u001b[49m\u001b[38;5;241;43m.\u001b[39;49m\u001b[43mT\u001b[49m\u001b[43m,\u001b[49m\u001b[43m \u001b[49m\u001b[43mcheck_input\u001b[49m\u001b[38;5;241;43m=\u001b[39;49m\u001b[38;5;28;43;01mFalse\u001b[39;49;00m\u001b[43m)\u001b[49m\n\u001b[1;32m    166\u001b[0m     new_code \u001b[38;5;241m=\u001b[39m clf\u001b[38;5;241m.\u001b[39mcoef_\n\u001b[1;32m    168\u001b[0m \u001b[38;5;28;01melif\u001b[39;00m algorithm \u001b[38;5;241m==\u001b[39m \u001b[38;5;124m\"\u001b[39m\u001b[38;5;124mlars\u001b[39m\u001b[38;5;124m\"\u001b[39m:\n",
      "File \u001b[0;32m~/.local/lib/python3.10/site-packages/sklearn/base.py:1473\u001b[0m, in \u001b[0;36m_fit_context.<locals>.decorator.<locals>.wrapper\u001b[0;34m(estimator, *args, **kwargs)\u001b[0m\n\u001b[1;32m   1466\u001b[0m     estimator\u001b[38;5;241m.\u001b[39m_validate_params()\n\u001b[1;32m   1468\u001b[0m \u001b[38;5;28;01mwith\u001b[39;00m config_context(\n\u001b[1;32m   1469\u001b[0m     skip_parameter_validation\u001b[38;5;241m=\u001b[39m(\n\u001b[1;32m   1470\u001b[0m         prefer_skip_nested_validation \u001b[38;5;129;01mor\u001b[39;00m global_skip_validation\n\u001b[1;32m   1471\u001b[0m     )\n\u001b[1;32m   1472\u001b[0m ):\n\u001b[0;32m-> 1473\u001b[0m     \u001b[38;5;28;01mreturn\u001b[39;00m \u001b[43mfit_method\u001b[49m\u001b[43m(\u001b[49m\u001b[43mestimator\u001b[49m\u001b[43m,\u001b[49m\u001b[43m \u001b[49m\u001b[38;5;241;43m*\u001b[39;49m\u001b[43margs\u001b[49m\u001b[43m,\u001b[49m\u001b[43m \u001b[49m\u001b[38;5;241;43m*\u001b[39;49m\u001b[38;5;241;43m*\u001b[39;49m\u001b[43mkwargs\u001b[49m\u001b[43m)\u001b[49m\n",
      "File \u001b[0;32m~/.local/lib/python3.10/site-packages/sklearn/linear_model/_coordinate_descent.py:1076\u001b[0m, in \u001b[0;36mElasticNet.fit\u001b[0;34m(self, X, y, sample_weight, check_input)\u001b[0m\n\u001b[1;32m   1074\u001b[0m \u001b[38;5;28;01melse\u001b[39;00m:\n\u001b[1;32m   1075\u001b[0m     this_Xy \u001b[38;5;241m=\u001b[39m \u001b[38;5;28;01mNone\u001b[39;00m\n\u001b[0;32m-> 1076\u001b[0m _, this_coef, this_dual_gap, this_iter \u001b[38;5;241m=\u001b[39m \u001b[38;5;28;43mself\u001b[39;49m\u001b[38;5;241;43m.\u001b[39;49m\u001b[43mpath\u001b[49m\u001b[43m(\u001b[49m\n\u001b[1;32m   1077\u001b[0m \u001b[43m    \u001b[49m\u001b[43mX\u001b[49m\u001b[43m,\u001b[49m\n\u001b[1;32m   1078\u001b[0m \u001b[43m    \u001b[49m\u001b[43my\u001b[49m\u001b[43m[\u001b[49m\u001b[43m:\u001b[49m\u001b[43m,\u001b[49m\u001b[43m \u001b[49m\u001b[43mk\u001b[49m\u001b[43m]\u001b[49m\u001b[43m,\u001b[49m\n\u001b[1;32m   1079\u001b[0m \u001b[43m    \u001b[49m\u001b[43ml1_ratio\u001b[49m\u001b[38;5;241;43m=\u001b[39;49m\u001b[38;5;28;43mself\u001b[39;49m\u001b[38;5;241;43m.\u001b[39;49m\u001b[43ml1_ratio\u001b[49m\u001b[43m,\u001b[49m\n\u001b[1;32m   1080\u001b[0m \u001b[43m    \u001b[49m\u001b[43meps\u001b[49m\u001b[38;5;241;43m=\u001b[39;49m\u001b[38;5;28;43;01mNone\u001b[39;49;00m\u001b[43m,\u001b[49m\n\u001b[1;32m   1081\u001b[0m \u001b[43m    \u001b[49m\u001b[43mn_alphas\u001b[49m\u001b[38;5;241;43m=\u001b[39;49m\u001b[38;5;28;43;01mNone\u001b[39;49;00m\u001b[43m,\u001b[49m\n\u001b[1;32m   1082\u001b[0m \u001b[43m    \u001b[49m\u001b[43malphas\u001b[49m\u001b[38;5;241;43m=\u001b[39;49m\u001b[43m[\u001b[49m\u001b[43malpha\u001b[49m\u001b[43m]\u001b[49m\u001b[43m,\u001b[49m\n\u001b[1;32m   1083\u001b[0m \u001b[43m    \u001b[49m\u001b[43mprecompute\u001b[49m\u001b[38;5;241;43m=\u001b[39;49m\u001b[43mprecompute\u001b[49m\u001b[43m,\u001b[49m\n\u001b[1;32m   1084\u001b[0m \u001b[43m    \u001b[49m\u001b[43mXy\u001b[49m\u001b[38;5;241;43m=\u001b[39;49m\u001b[43mthis_Xy\u001b[49m\u001b[43m,\u001b[49m\n\u001b[1;32m   1085\u001b[0m \u001b[43m    \u001b[49m\u001b[43mcopy_X\u001b[49m\u001b[38;5;241;43m=\u001b[39;49m\u001b[38;5;28;43;01mTrue\u001b[39;49;00m\u001b[43m,\u001b[49m\n\u001b[1;32m   1086\u001b[0m \u001b[43m    \u001b[49m\u001b[43mcoef_init\u001b[49m\u001b[38;5;241;43m=\u001b[39;49m\u001b[43mcoef_\u001b[49m\u001b[43m[\u001b[49m\u001b[43mk\u001b[49m\u001b[43m]\u001b[49m\u001b[43m,\u001b[49m\n\u001b[1;32m   1087\u001b[0m \u001b[43m    \u001b[49m\u001b[43mverbose\u001b[49m\u001b[38;5;241;43m=\u001b[39;49m\u001b[38;5;28;43;01mFalse\u001b[39;49;00m\u001b[43m,\u001b[49m\n\u001b[1;32m   1088\u001b[0m \u001b[43m    \u001b[49m\u001b[43mreturn_n_iter\u001b[49m\u001b[38;5;241;43m=\u001b[39;49m\u001b[38;5;28;43;01mTrue\u001b[39;49;00m\u001b[43m,\u001b[49m\n\u001b[1;32m   1089\u001b[0m \u001b[43m    \u001b[49m\u001b[43mpositive\u001b[49m\u001b[38;5;241;43m=\u001b[39;49m\u001b[38;5;28;43mself\u001b[39;49m\u001b[38;5;241;43m.\u001b[39;49m\u001b[43mpositive\u001b[49m\u001b[43m,\u001b[49m\n\u001b[1;32m   1090\u001b[0m \u001b[43m    \u001b[49m\u001b[43mcheck_input\u001b[49m\u001b[38;5;241;43m=\u001b[39;49m\u001b[38;5;28;43;01mFalse\u001b[39;49;00m\u001b[43m,\u001b[49m\n\u001b[1;32m   1091\u001b[0m \u001b[43m    \u001b[49m\u001b[38;5;66;43;03m# from here on **params\u001b[39;49;00m\n\u001b[1;32m   1092\u001b[0m \u001b[43m    \u001b[49m\u001b[43mtol\u001b[49m\u001b[38;5;241;43m=\u001b[39;49m\u001b[38;5;28;43mself\u001b[39;49m\u001b[38;5;241;43m.\u001b[39;49m\u001b[43mtol\u001b[49m\u001b[43m,\u001b[49m\n\u001b[1;32m   1093\u001b[0m \u001b[43m    \u001b[49m\u001b[43mX_offset\u001b[49m\u001b[38;5;241;43m=\u001b[39;49m\u001b[43mX_offset\u001b[49m\u001b[43m,\u001b[49m\n\u001b[1;32m   1094\u001b[0m \u001b[43m    \u001b[49m\u001b[43mX_scale\u001b[49m\u001b[38;5;241;43m=\u001b[39;49m\u001b[43mX_scale\u001b[49m\u001b[43m,\u001b[49m\n\u001b[1;32m   1095\u001b[0m \u001b[43m    \u001b[49m\u001b[43mmax_iter\u001b[49m\u001b[38;5;241;43m=\u001b[39;49m\u001b[38;5;28;43mself\u001b[39;49m\u001b[38;5;241;43m.\u001b[39;49m\u001b[43mmax_iter\u001b[49m\u001b[43m,\u001b[49m\n\u001b[1;32m   1096\u001b[0m \u001b[43m    \u001b[49m\u001b[43mrandom_state\u001b[49m\u001b[38;5;241;43m=\u001b[39;49m\u001b[38;5;28;43mself\u001b[39;49m\u001b[38;5;241;43m.\u001b[39;49m\u001b[43mrandom_state\u001b[49m\u001b[43m,\u001b[49m\n\u001b[1;32m   1097\u001b[0m \u001b[43m    \u001b[49m\u001b[43mselection\u001b[49m\u001b[38;5;241;43m=\u001b[39;49m\u001b[38;5;28;43mself\u001b[39;49m\u001b[38;5;241;43m.\u001b[39;49m\u001b[43mselection\u001b[49m\u001b[43m,\u001b[49m\n\u001b[1;32m   1098\u001b[0m \u001b[43m    \u001b[49m\u001b[43msample_weight\u001b[49m\u001b[38;5;241;43m=\u001b[39;49m\u001b[43msample_weight\u001b[49m\u001b[43m,\u001b[49m\n\u001b[1;32m   1099\u001b[0m \u001b[43m\u001b[49m\u001b[43m)\u001b[49m\n\u001b[1;32m   1100\u001b[0m coef_[k] \u001b[38;5;241m=\u001b[39m this_coef[:, \u001b[38;5;241m0\u001b[39m]\n\u001b[1;32m   1101\u001b[0m dual_gaps_[k] \u001b[38;5;241m=\u001b[39m this_dual_gap[\u001b[38;5;241m0\u001b[39m]\n",
      "File \u001b[0;32m~/.local/lib/python3.10/site-packages/sklearn/utils/_param_validation.py:186\u001b[0m, in \u001b[0;36mvalidate_params.<locals>.decorator.<locals>.wrapper\u001b[0;34m(*args, **kwargs)\u001b[0m\n\u001b[1;32m    184\u001b[0m global_skip_validation \u001b[38;5;241m=\u001b[39m get_config()[\u001b[38;5;124m\"\u001b[39m\u001b[38;5;124mskip_parameter_validation\u001b[39m\u001b[38;5;124m\"\u001b[39m]\n\u001b[1;32m    185\u001b[0m \u001b[38;5;28;01mif\u001b[39;00m global_skip_validation:\n\u001b[0;32m--> 186\u001b[0m     \u001b[38;5;28;01mreturn\u001b[39;00m \u001b[43mfunc\u001b[49m\u001b[43m(\u001b[49m\u001b[38;5;241;43m*\u001b[39;49m\u001b[43margs\u001b[49m\u001b[43m,\u001b[49m\u001b[43m \u001b[49m\u001b[38;5;241;43m*\u001b[39;49m\u001b[38;5;241;43m*\u001b[39;49m\u001b[43mkwargs\u001b[49m\u001b[43m)\u001b[49m\n\u001b[1;32m    188\u001b[0m func_sig \u001b[38;5;241m=\u001b[39m signature(func)\n\u001b[1;32m    190\u001b[0m \u001b[38;5;66;03m# Map *args/**kwargs to the function signature\u001b[39;00m\n",
      "File \u001b[0;32m~/.local/lib/python3.10/site-packages/sklearn/linear_model/_coordinate_descent.py:683\u001b[0m, in \u001b[0;36menet_path\u001b[0;34m(X, y, l1_ratio, eps, n_alphas, alphas, precompute, Xy, copy_X, coef_init, verbose, return_n_iter, positive, check_input, **params)\u001b[0m\n\u001b[1;32m    681\u001b[0m     \u001b[38;5;28;01mif\u001b[39;00m check_input:\n\u001b[1;32m    682\u001b[0m         precompute \u001b[38;5;241m=\u001b[39m check_array(precompute, dtype\u001b[38;5;241m=\u001b[39mX\u001b[38;5;241m.\u001b[39mdtype\u001b[38;5;241m.\u001b[39mtype, order\u001b[38;5;241m=\u001b[39m\u001b[38;5;124m\"\u001b[39m\u001b[38;5;124mC\u001b[39m\u001b[38;5;124m\"\u001b[39m)\n\u001b[0;32m--> 683\u001b[0m     model \u001b[38;5;241m=\u001b[39m \u001b[43mcd_fast\u001b[49m\u001b[38;5;241;43m.\u001b[39;49m\u001b[43menet_coordinate_descent_gram\u001b[49m\u001b[43m(\u001b[49m\n\u001b[1;32m    684\u001b[0m \u001b[43m        \u001b[49m\u001b[43mcoef_\u001b[49m\u001b[43m,\u001b[49m\n\u001b[1;32m    685\u001b[0m \u001b[43m        \u001b[49m\u001b[43ml1_reg\u001b[49m\u001b[43m,\u001b[49m\n\u001b[1;32m    686\u001b[0m \u001b[43m        \u001b[49m\u001b[43ml2_reg\u001b[49m\u001b[43m,\u001b[49m\n\u001b[1;32m    687\u001b[0m \u001b[43m        \u001b[49m\u001b[43mprecompute\u001b[49m\u001b[43m,\u001b[49m\n\u001b[1;32m    688\u001b[0m \u001b[43m        \u001b[49m\u001b[43mXy\u001b[49m\u001b[43m,\u001b[49m\n\u001b[1;32m    689\u001b[0m \u001b[43m        \u001b[49m\u001b[43my\u001b[49m\u001b[43m,\u001b[49m\n\u001b[1;32m    690\u001b[0m \u001b[43m        \u001b[49m\u001b[43mmax_iter\u001b[49m\u001b[43m,\u001b[49m\n\u001b[1;32m    691\u001b[0m \u001b[43m        \u001b[49m\u001b[43mtol\u001b[49m\u001b[43m,\u001b[49m\n\u001b[1;32m    692\u001b[0m \u001b[43m        \u001b[49m\u001b[43mrng\u001b[49m\u001b[43m,\u001b[49m\n\u001b[1;32m    693\u001b[0m \u001b[43m        \u001b[49m\u001b[43mrandom\u001b[49m\u001b[43m,\u001b[49m\n\u001b[1;32m    694\u001b[0m \u001b[43m        \u001b[49m\u001b[43mpositive\u001b[49m\u001b[43m,\u001b[49m\n\u001b[1;32m    695\u001b[0m \u001b[43m    \u001b[49m\u001b[43m)\u001b[49m\n\u001b[1;32m    696\u001b[0m \u001b[38;5;28;01melif\u001b[39;00m precompute \u001b[38;5;129;01mis\u001b[39;00m \u001b[38;5;28;01mFalse\u001b[39;00m:\n\u001b[1;32m    697\u001b[0m     model \u001b[38;5;241m=\u001b[39m cd_fast\u001b[38;5;241m.\u001b[39menet_coordinate_descent(\n\u001b[1;32m    698\u001b[0m         coef_, l1_reg, l2_reg, X, y, max_iter, tol, rng, random, positive\n\u001b[1;32m    699\u001b[0m     )\n",
      "File \u001b[0;32m_cd_fast.pyx:610\u001b[0m, in \u001b[0;36msklearn.linear_model._cd_fast.enet_coordinate_descent_gram\u001b[0;34m()\u001b[0m\n",
      "File \u001b[0;32m~/.local/lib/python3.10/site-packages/numpy/_core/multiarray.py:750\u001b[0m, in \u001b[0;36mdot\u001b[0;34m(a, b, out)\u001b[0m\n\u001b[1;32m    680\u001b[0m \u001b[38;5;250m    \u001b[39m\u001b[38;5;124;03m\"\"\"\u001b[39;00m\n\u001b[1;32m    681\u001b[0m \u001b[38;5;124;03m    result_type(*arrays_and_dtypes)\u001b[39;00m\n\u001b[1;32m    682\u001b[0m \n\u001b[0;32m   (...)\u001b[0m\n\u001b[1;32m    745\u001b[0m \n\u001b[1;32m    746\u001b[0m \u001b[38;5;124;03m    \"\"\"\u001b[39;00m\n\u001b[1;32m    747\u001b[0m     \u001b[38;5;28;01mreturn\u001b[39;00m arrays_and_dtypes\n\u001b[0;32m--> 750\u001b[0m \u001b[38;5;129m@array_function_from_c_func_and_dispatcher\u001b[39m(_multiarray_umath\u001b[38;5;241m.\u001b[39mdot)\n\u001b[1;32m    751\u001b[0m \u001b[38;5;28;01mdef\u001b[39;00m \u001b[38;5;21mdot\u001b[39m(a, b, out\u001b[38;5;241m=\u001b[39m\u001b[38;5;28;01mNone\u001b[39;00m):\n\u001b[1;32m    752\u001b[0m \u001b[38;5;250m    \u001b[39m\u001b[38;5;124;03m\"\"\"\u001b[39;00m\n\u001b[1;32m    753\u001b[0m \u001b[38;5;124;03m    dot(a, b, out=None)\u001b[39;00m\n\u001b[1;32m    754\u001b[0m \n\u001b[0;32m   (...)\u001b[0m\n\u001b[1;32m    838\u001b[0m \n\u001b[1;32m    839\u001b[0m \u001b[38;5;124;03m    \"\"\"\u001b[39;00m\n\u001b[1;32m    840\u001b[0m     \u001b[38;5;28;01mreturn\u001b[39;00m (a, b, out)\n",
      "\u001b[0;31mKeyboardInterrupt\u001b[0m: "
     ]
    }
   ],
   "source": [
    "n_basis = 20\n",
    "basis = np.zeros((n_basis, n_freq_bins*n_time_bins))\n",
    "coefs = np.zeros((n_samples*n_syl, n_basis))\n",
    "dl = DictionaryLearning(n_components=n_basis, alpha=0.1, fit_algorithm='cd', \n",
    "                        positive_code=True, positive_dict=True)\n",
    "aux = np.concatenate([adult['spec_syl'][:,i].reshape(n_samples, -1) \n",
    "                      for i in range(n_syl)])\n",
    "coefs = dl.fit_transform(aux)\n",
    "a_std = coefs.std(axis=0)[None,:]\n",
    "coefs/= a_std\n",
    "basis = dl.components_ * a_std.T"
   ]
  },
  {
   "cell_type": "code",
   "execution_count": null,
   "id": "f0acd43f-ff55-4a80-8fe1-3fb374683a60",
   "metadata": {},
   "outputs": [],
   "source": [
    "fig, ax = plt.subplots(2, 7, figsize=(6, 2))\n",
    "ax = ax.flatten()\n",
    "for i, b in enumerate(basis):\n",
    "    if i >= len(ax):\n",
    "        break\n",
    "    ax[i].imshow(b.reshape(n_freq_bins, n_time_bins))\n",
    "    ax[i].set_axis_off()"
   ]
  },
  {
   "cell_type": "code",
   "execution_count": null,
   "id": "4466287a-5a88-472f-804c-a781d4562d41",
   "metadata": {},
   "outputs": [],
   "source": [
    "_ = coefs @ basis\n",
    "fig, ax = plt.subplots(2, n_syl, figsize=(4, 1.5))\n",
    "for i in range(n_syl):\n",
    "    j = rng.integers(0,n_samples)\n",
    "    ax[0,i].imshow(adult['spec_syl'][j,i])\n",
    "    ax[1,i].imshow(_[i*n_samples+j].reshape(n_freq_bins, n_time_bins))\n",
    "    ax[0,i].set_axis_off()\n",
    "    ax[1,i].set_axis_off()"
   ]
  },
  {
   "cell_type": "code",
   "execution_count": null,
   "id": "7c7e7803-ad64-4c92-84e1-09a1e18aee71",
   "metadata": {},
   "outputs": [],
   "source": [
    "class Environment:\n",
    "    VOCAL_ERR_NET_MAP = {'FF': 0, 'EI-HVC2E': 1, 'EI-E2E': 2, 'EI-E2I2E': 3}\n",
    "    def __init__(self, action_basis, n_time_bins, T_song, \n",
    "                 dir_sensory_net, dir_vocal_error_net, vocal_error_net_type, \n",
    "                 T_burn=500, T_post=50, spec_dt=10,\n",
    "                 HVC_peak_rate=150, HVC_kernel_width=20):\n",
    "        # Constants\n",
    "        self.T_song = T_song\n",
    "        self.T_burn = T_burn\n",
    "        self.T_post = T_post\n",
    "        self.T = T_burn + T_song + T_post\n",
    "        self.spec_dt = spec_dt\n",
    "        \n",
    "        # Store action basis\n",
    "        # (n_basis, n_freq_bins*n_time_bins)\n",
    "        self.action_basis = action_basis\n",
    "        # self.action_basis = np.concatenate(action_basis, axis=0) \n",
    "        self.action_dim = self.action_basis.shape[0]\n",
    "        \n",
    "        # Load sensory net\n",
    "        sensory_basis = torch.load(dir_sensory_net)\n",
    "        assert sensory_basis.shape[0] % n_time_bins == 0\n",
    "        self.n_sensory_basis = sensory_basis.shape[1]\n",
    "        self.n_time_bins = n_time_bins\n",
    "        self.n_freq_bins = sensory_basis.shape[0] // n_time_bins\n",
    "        self.sensory = SparseCoding(n_basis=self.n_sensory_basis, \n",
    "                                    n_freq_bins=self.n_freq_bins, \n",
    "                                    n_time_bins=self.n_time_bins)\n",
    "        self.sensory.basis = sensory_basis\n",
    "\n",
    "        # Load vocal error net\n",
    "        ret = load_models(dir_vocal_error_net, 'neighbor', 'EIIE', 'mature_hvc', 0)\n",
    "        self.ve_net = ret[Environment.VOCAL_ERR_NET_MAP[vocal_error_net_type]]\n",
    "        self.sensory_mapping = ret[-1]\n",
    "        self.ve_net_in_dim, self.HVC_dim = self.ve_net.W.shape\n",
    "        \n",
    "        # Construct HVC firing\n",
    "        burst_ts = np.linspace(T_burn, T_burn+T_song, num=self.HVC_dim, endpoint=False)\n",
    "        aux = np.zeros((self.HVC_dim,1))\n",
    "        self.rH = generate_HVC(T_burn+T_song+T_post, burst_ts[:,None], \n",
    "                               HVC_peak_rate+aux, HVC_kernel_width+aux)\n",
    "\n",
    "        self.t0 = adult['syl_on'].mean(axis=0).astype(int)\n",
    "        self.t1 = adult['syl_off'].mean(axis=0).astype(int)\n",
    "        self._init_ve_net()\n",
    "\n",
    "    def _init_ve_net(self):\n",
    "        hE0 = rng.normal(loc=-10, scale=0.5, size=self.ve_net.NE)\n",
    "        hI0 = rng.normal(loc=-1, scale=0.5, size=self.ve_net.NI)\n",
    "        if not hasattr(self.ve_net, 'NI'):\n",
    "            self.hI0 = -1\n",
    "        \n",
    "        rE, rI, _, hE, hI = self.ve_net.sim(hE0, hI0=hI0, rH=self.rH[:self.T_burn], \n",
    "                                            aud=np.zeros((self.T_burn, self.ve_net_in_dim)), \n",
    "                                            save_W_ts=[], T=self.T_burn, dt=1, \n",
    "                                            noise_strength=0, no_progress_bar=True)\n",
    "        self.hE0, self.hI0 = hE, hI\n",
    "        \n",
    "    \n",
    "    def _perform(self, action):\n",
    "        assert action.shape[0] == n_syl\n",
    "        bos = action.numpy() @ self.action_basis\n",
    "        bos = bos.reshape(-1, self.n_freq_bins, self.n_time_bins).clip(min=0)\n",
    "        emb = np.zeros((bos.shape[0], self.sensory_mapping.shape[-1]))\n",
    "        i_active = np.where(bos.mean(axis=(1,2)) > 1e-3)[0]\n",
    "\n",
    "        if len(i_active) > 0:\n",
    "            aux = self.sensory(torch.tensor(bos[i_active], dtype=torch.float32), \n",
    "                               n_iter_coef=200)\n",
    "            aux = normalize(aux[...,0].numpy(), axis=1)\n",
    "            emb[i_active] = aux @ self.sensory_mapping\n",
    "            if np.isnan(emb).any():\n",
    "                plt.imshow(bos)\n",
    "        return bos, emb\n",
    "\n",
    "    def _reward(self, song, h0s=None):\n",
    "        rE, rI, _, hE, hI = self.ve_net.sim(self.hE0, hI0=self.hI0, rH=self.rH[self.T_burn:], \n",
    "                                            aud=song, save_W_ts=[], T=self.T-self.T_burn, dt=1, \n",
    "                                            noise_strength=0, no_progress_bar=True)\n",
    "        \n",
    "        return -rE.mean(axis=1)\n",
    "        \n",
    "    def step(self, action):\n",
    "        song_emb = np.zeros((self.T-self.T_burn, self.ve_net_in_dim))\n",
    "        bos, emb = self._perform(action)\n",
    "        for i in range(n_syl):\n",
    "            song_emb[self.t0[i]:self.t0[i]+100] = emb[None,i,:]\n",
    "        r = self._reward(song_emb)\n",
    "        return bos, song_emb, r"
   ]
  },
  {
   "cell_type": "code",
   "execution_count": null,
   "id": "0fa251fc-a777-4e3b-9b2e-eb0e49bb7285",
   "metadata": {},
   "outputs": [],
   "source": [
    "from torch.distributions import Bernoulli, Normal\n",
    "import torch.nn.functional as F\n",
    "\n",
    "class ActorCritic(nn.Module):\n",
    "    def __init__(self, n_out):\n",
    "        super(ActorCritic, self).__init__()\n",
    "        self.critic = nn.Parameter(torch.ones(n_syl, dtype=torch.float))\n",
    "        # self.actor_prob = nn.Parameter(torch.ones(n_syl, n_out, dtype=torch.float))\n",
    "        self.actor_mean = nn.Parameter(torch.zeros(n_syl, n_out, dtype=torch.float))\n",
    "        self.actor_logstd = nn.Parameter(torch.zeros(n_syl, n_out, dtype=torch.float))\n",
    "    \n",
    "    def forward(self):\n",
    "        val = self.critic\n",
    "        # action_dist = Bernoulli(F.softmax(self.actor_prob, dim=-2))\n",
    "        action_dist = Normal(self.actor_mean, torch.exp(self.actor_logstd))\n",
    "        action = action_dist.sample()\n",
    "        log_prob = action_dist.log_prob(action).sum(axis=1) # (n_syl,)\n",
    "        entropy = action_dist.entropy().mean()\n",
    "        action[action < 1] = 0\n",
    "        return action, val, log_prob, entropy\n",
    "\n",
    "    def l1(self, coef):\n",
    "        if coef == 0:\n",
    "            return 0\n",
    "        return torch.abs(self.actor_prob).mean() * coef"
   ]
  },
  {
   "cell_type": "code",
   "execution_count": null,
   "id": "6d3b5115-8adf-433f-a416-008f2c3b903c",
   "metadata": {},
   "outputs": [],
   "source": [
    "env = Environment(basis, n_time_bins, T_SONG,\n",
    "                  '../realistic_auditory_processing/net_params.pkl', \n",
    "                  '../results/', 'EI-E2I2E')"
   ]
  },
  {
   "cell_type": "code",
   "execution_count": null,
   "id": "5c087832-7a8f-465f-b56a-2b04507a9caf",
   "metadata": {},
   "outputs": [],
   "source": [
    "agent = ActorCritic(env.action_dim)\n",
    "\n",
    "optimizer = torch.optim.Adam(agent.parameters(), lr=5e-1)"
   ]
  },
  {
   "cell_type": "code",
   "execution_count": null,
   "id": "30089b4d-aaf5-486e-9b5b-f4d9d2e2d69d",
   "metadata": {},
   "outputs": [],
   "source": [
    "actor_losses, critic_losses = [], []\n",
    "total_rewards, advantages, ve_rates = [], [], []\n",
    "actions, songs, song_embs = [], [], []\n",
    "\n",
    "batch = 20\n",
    "\n",
    "for epoch in tqdm(range(2000)):\n",
    "    if epoch % batch == 0:\n",
    "        actor_loss, critic_loss = 0, 0\n",
    "        optimizer.zero_grad()\n",
    "    \n",
    "    action, val, log_prob, entropy = agent()\n",
    "    bos, song_emb, rE = env.step(action)\n",
    "    \n",
    "    if epoch == 0 or (epoch+1) % 100 == 0:\n",
    "        songs.append(bos)\n",
    "        song_embs.append(song_emb)\n",
    "        ve_rates.append(rE.copy())\n",
    "\n",
    "    # baseline subtraction; the rE here also includes the burning period from 0 to T_burn\n",
    "    rewards = [rE[env.t0[t]:env.t0[t]+120].mean() for t in range(n_syl)]\n",
    "    rewards = np.array(rewards) * 10 + 20\n",
    "    total_rewards.append(np.mean(rewards))\n",
    "\n",
    "    advantage = torch.tensor(rewards) - val\n",
    "    critic_loss += (advantage**2).sum()\n",
    "    actor_loss += -(log_prob * advantage.detach()).sum()\n",
    "\n",
    "    if (epoch+1) % batch == 0:\n",
    "        actor_losses.append(actor_loss.item())\n",
    "        critic_losses.append(critic_loss.item())\n",
    "        entropy_weight = 0.1\n",
    "        l1 = agent.l1(0)\n",
    "        loss = actor_loss + critic_loss - entropy * entropy_weight + l1\n",
    "        loss.backward()\n",
    "        optimizer.step()\n",
    "    \n",
    "    advantages.append(advantage.detach().sum())"
   ]
  },
  {
   "cell_type": "code",
   "execution_count": null,
   "id": "3c6107f9-9935-4f73-b2f3-37519203df21",
   "metadata": {},
   "outputs": [],
   "source": [
    "fig, ax = plt.subplots(2, figsize=(4,3), sharex='all')\n",
    "im = ax[0].imshow(coefs, interpolation='none')\n",
    "plt.colorbar(im, ax=ax[0])\n",
    "# im = ax[1].imshow(F.softmax(agent.actor_prob.data, dim=-2), vmin=0, vmax=1)\n",
    "im = ax[1].imshow(agent.actor_mean.data)#, vmin=0, vmax=1)\n",
    "plt.colorbar(im, ax=ax[1])"
   ]
  },
  {
   "cell_type": "code",
   "execution_count": null,
   "id": "fc727cc9-7873-413a-9322-9acd1b8b85c4",
   "metadata": {},
   "outputs": [],
   "source": [
    "plt.plot(total_rewards)"
   ]
  },
  {
   "cell_type": "code",
   "execution_count": null,
   "id": "bf42a0d2-6235-4907-9317-7706de198b1e",
   "metadata": {},
   "outputs": [],
   "source": [
    "plt.plot(actor_losses)"
   ]
  },
  {
   "cell_type": "code",
   "execution_count": null,
   "id": "aa740cba-54e5-4d13-a11a-fd231979e0d1",
   "metadata": {},
   "outputs": [],
   "source": [
    "plt.plot(critic_losses)"
   ]
  },
  {
   "cell_type": "code",
   "execution_count": null,
   "id": "98ae938d-8063-4759-849d-efeb9e8afe4b",
   "metadata": {},
   "outputs": [],
   "source": [
    "fig, ax = plt.subplots(2, n_syl, figsize=(4, 1.5))\n",
    "for i in range(n_syl):\n",
    "    ax[0,i].imshow(adult['spec_syl'][:,i].mean(axis=0))\n",
    "    ax[1,i].imshow(songs[-1][i])\n",
    "    ax[0,i].set_axis_off()\n",
    "    ax[1,i].set_axis_off()"
   ]
  },
  {
   "cell_type": "code",
   "execution_count": null,
   "id": "9bd0548b-009e-46af-aed2-c4efe58fc89a",
   "metadata": {},
   "outputs": [],
   "source": [
    "assert False"
   ]
  },
  {
   "cell_type": "code",
   "execution_count": null,
   "id": "c62ac4a9-dea4-4146-9dd8-83f309d559e5",
   "metadata": {},
   "outputs": [],
   "source": [
    "torch.save(agent.state_dict(), 'params.pt')"
   ]
  },
  {
   "cell_type": "code",
   "execution_count": null,
   "id": "2a8f2c36-5f3d-4e47-844a-2a851bb960c5",
   "metadata": {},
   "outputs": [],
   "source": [
    "fig, ax = plt.subplots(4, n_syl, figsize=(3, 2.5))\n",
    "for i, t in enumerate('iabcde'):\n",
    "    ax[0,i].imshow(adult['spec_syl'][:,i].mean(axis=0))\n",
    "    ax[1,i].imshow(songs[0][i])\n",
    "    ax[2,i].imshow(songs[10][i])\n",
    "    ax[3,i].imshow(songs[-1][i])\n",
    "    for k in range(4):\n",
    "        ax[k,i].set(xticks=[], yticks=[])\n",
    "    ax[0,i].set_title(t)#, weight='bold' if i > 1 else 'normal')\n",
    "ax[1,0].set_title(' ', fontsize=3)\n",
    "for i, y in enumerate(('target', 'before', 'during', 'after')):\n",
    "    ax[i,0].set(ylabel=y)\n",
    "fig.savefig('../svg/rl_results.svg')"
   ]
  },
  {
   "cell_type": "code",
   "execution_count": null,
   "id": "4dd35543-065d-4e32-b448-c47ec5372d97",
   "metadata": {},
   "outputs": [],
   "source": [
    "fig, ax = plt.subplots(2, figsize=(1.5,2.5))\n",
    "ax[0].plot(2 - np.array(total_rewards) / 10)\n",
    "ax[1].plot(advantages)\n",
    "ax[1].set(ylabel='TD error (a.u.)', xlabel='trials')\n",
    "fig.savefig('../svg/rl_mean_err.svg')"
   ]
  },
  {
   "cell_type": "code",
   "execution_count": null,
   "id": "0d9dbbf9-f6b0-4da1-956c-5fc930e82078",
   "metadata": {},
   "outputs": [],
   "source": []
  }
 ],
 "metadata": {
  "kernelspec": {
   "display_name": "Python 3 (ipykernel)",
   "language": "python",
   "name": "python3"
  },
  "language_info": {
   "codemirror_mode": {
    "name": "ipython",
    "version": 3
   },
   "file_extension": ".py",
   "mimetype": "text/x-python",
   "name": "python",
   "nbconvert_exporter": "python",
   "pygments_lexer": "ipython3",
   "version": "3.10.12"
  }
 },
 "nbformat": 4,
 "nbformat_minor": 5
}

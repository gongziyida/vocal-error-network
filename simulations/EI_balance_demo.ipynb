{
 "cells": [
  {
   "cell_type": "code",
   "execution_count": 1,
   "metadata": {},
   "outputs": [],
   "source": [
    "import sys\n",
    "sys.path.append('../src')\n",
    "import numpy as np\n",
    "from scipy.special import erf, erfinv\n",
    "from scipy.sparse import issparse\n",
    "from matplotlib import colormaps\n",
    "import matplotlib.pyplot as plt\n",
    "from models import *\n",
    "from train_funcs import *\n",
    "from visualization import *\n",
    "rng = np.random.default_rng()"
   ]
  },
  {
   "cell_type": "markdown",
   "metadata": {},
   "source": [
    "## Model Training"
   ]
  },
  {
   "cell_type": "code",
   "execution_count": 2,
   "metadata": {},
   "outputs": [],
   "source": [
    "NE, NI, N_syl, N_HVC_per_syl = 600, 150, 3, 3\n",
    "N_HVC = N_syl * N_HVC_per_syl\n",
    "tauE, tauI, dt = 30, 10, 1"
   ]
  },
  {
   "cell_type": "code",
   "execution_count": 3,
   "metadata": {},
   "outputs": [],
   "source": [
    "peak_rate, kernel_width = 150, 20"
   ]
  },
  {
   "cell_type": "code",
   "execution_count": 4,
   "metadata": {},
   "outputs": [],
   "source": [
    "T_rend = 600 # Each rendition\n",
    "N_rend = 25 # Number of renditions\n",
    "T_burn = 500 # Burning\n",
    "T = T_burn + N_rend * T_rend # Total"
   ]
  },
  {
   "cell_type": "code",
   "execution_count": 5,
   "metadata": {},
   "outputs": [
    {
     "name": "stdout",
     "output_type": "stream",
     "text": [
      "(3, 600)\n"
     ]
    },
    {
     "name": "stderr",
     "output_type": "stream",
     "text": [
      "/var/folders/bg/43fgzqj14377b2s2s0m5wfym0000gn/T/ipykernel_9774/2737249185.py:5: RuntimeWarning: divide by zero encountered in matmul\n",
      "  syl = rng.multivariate_normal(np.zeros(NE), syl_cov, size=N_syl)\n",
      "/var/folders/bg/43fgzqj14377b2s2s0m5wfym0000gn/T/ipykernel_9774/2737249185.py:5: RuntimeWarning: overflow encountered in matmul\n",
      "  syl = rng.multivariate_normal(np.zeros(NE), syl_cov, size=N_syl)\n",
      "/var/folders/bg/43fgzqj14377b2s2s0m5wfym0000gn/T/ipykernel_9774/2737249185.py:5: RuntimeWarning: invalid value encountered in matmul\n",
      "  syl = rng.multivariate_normal(np.zeros(NE), syl_cov, size=N_syl)\n"
     ]
    }
   ],
   "source": [
    "# Syllables and time stamps\n",
    "# syl = rng.normal(1, 3, size=(N_syl, NE))#\n",
    "N_shared_channels = 1\n",
    "syl_cov = block_sym_mat(NE, K=N_shared_channels, var=9, cov=7.5)\n",
    "syl = rng.multivariate_normal(np.zeros(NE), syl_cov, size=N_syl)\n",
    "print(syl.shape)\n",
    "tsyl_start, tsyl_end, burst_ts = generate_syl_time(T, T_burn, T_rend, N_syl, N_HVC)\n",
    "save_W_ts = np.round(tsyl_end[-1]).astype(int)"
   ]
  },
  {
   "cell_type": "code",
   "execution_count": 6,
   "metadata": {},
   "outputs": [],
   "source": [
    "_ = rng.standard_normal((N_HVC, N_rend)) # Little fluctuation\n",
    "rH = generate_HVC(T, burst_ts, peak_rate+_*0.1, kernel_width+_*0.01)"
   ]
  },
  {
   "cell_type": "code",
   "execution_count": 7,
   "metadata": {},
   "outputs": [],
   "source": [
    "# (T, NE)\n",
    "aud = generate_discrete_aud(T, NE, tsyl_start, tsyl_end, syl)\n",
    "# aud[:T_burn] = rng.normal(0, 1, size=(T_burn, NE))"
   ]
  },
  {
   "cell_type": "code",
   "execution_count": 8,
   "metadata": {},
   "outputs": [],
   "source": [
    "gen = lognormal_gen\n",
    "c = 0.5\n",
    "\n",
    "srKEc, srKIc = np.sqrt(NE*c), np.sqrt(NI*c)\n",
    "JEE0, JEI0, JIE0, JII0 = np.array([1/srKEc, 1.7/srKIc, 1.02/srKEc, 1.5/srKIc]) / 10\n",
    "sEE, sEI, sIE, sII = np.array([JEE0, JEI0, JIE0, JII0]) * 0.1\n",
    "JEE = generate_matrix(NE, NE, gen, c, rng=rng, mean=JEE0, std=sEE, sparse=True)\n",
    "JEI = generate_matrix(NE, NI, gen, c, rng=rng, mean=JEI0, std=sEI, sparse=True)\n",
    "JIE = generate_matrix(NI, NE, gen, c, rng=rng, mean=JIE0, std=sIE, sparse=True)\n",
    "JII = generate_matrix(NI, NI, gen, c, rng=rng, mean=JII0, std=sII, sparse=True)"
   ]
  },
  {
   "cell_type": "code",
   "execution_count": 9,
   "metadata": {},
   "outputs": [
    {
     "data": {
      "image/png": "[encoded data removed]",
      "text/plain": [
       "<Figure size 200x200 with 2 Axes>"
      ]
     },
     "metadata": {},
     "output_type": "display_data"
    }
   ],
   "source": [
    "fig, ax = plt.subplots(2, 1, figsize=(2, 2), height_ratios=[1, 3], constrained_layout=False)\n",
    "fig.subplots_adjust(hspace=0.05)\n",
    "if issparse(JEE):\n",
    "    hist = [_.toarray().flatten() for _ in [JII, JEI, JIE, JEE]]\n",
    "else:\n",
    "    hist = [_.flatten() for _ in [JII, JEI, JIE, JEE]] \n",
    "for i in range(2):\n",
    "    ax[i].hist(hist, bins=30, density=True, histtype='step', range=(0, 0.03), lw=1.5,\n",
    "               label=[r'I$\\to$I', r'I$\\to$E', r'E$\\to$I', r'E$\\to$E'])\n",
    "ax[0].set(ylim=[400, 600], yticks=[500], xticks=[])\n",
    "ax[1].set(ylim=[0, 300], yticks=[0, 200], ylabel='density', xlabel='recurrent weights')\n",
    "ax[0].spines.bottom.set_visible(False)\n",
    "ax[1].spines.top.set_visible(False)\n",
    "d = .5  # proportion of vertical to horizontal extent of the slanted line\n",
    "kwargs = dict(marker=[(-1, -d), (1, d)], markersize=5,\n",
    "              linestyle='none', color='k', mec='k', mew=1, clip_on=False)\n",
    "ax[0].plot([0], [0], transform=ax[0].transAxes, **kwargs)\n",
    "ax[1].plot([0], [1], transform=ax[1].transAxes, **kwargs)\n",
    "ax[0].set_title('Distributions of\\ninit. rec. weights', fontsize=10)\n",
    "ax[1].legend(bbox_to_anchor=(0.55, 0.4), ncols=1, frameon=False,\n",
    "             handlelength=0.8, handletextpad=0.5)\n",
    "fig.tight_layout(pad=0.1)\n",
    "fig.savefig('../svg/J_dist.svg')"
   ]
  },
  {
   "cell_type": "code",
   "execution_count": 10,
   "metadata": {},
   "outputs": [],
   "source": [
    "rEmax, rImax, thE, thI, sE, sI = 100, 100, 0, 0, 2, 2"
   ]
  },
  {
   "cell_type": "code",
   "execution_count": 11,
   "metadata": {},
   "outputs": [],
   "source": [
    "w0_mean_E2E, w0_std_E2E, cW_E2E = 1/N_HVC, 0, 0.05\n",
    "w_inh_E2E = w0_mean_E2E*cW_E2E*0\n",
    "\n",
    "net = EINet(NE, NI, N_HVC, w0_mean_E2E, (rEmax, thE, sE), (rImax, thI, sI), tauE, tauI, \n",
    "            JEE=JEE.copy(), JEI=JEI.copy(), JIE=JIE.copy(), JII=JII.copy(), \n",
    "            w_inh=w_inh_E2E, w0_std=w0_std_E2E, cW=cW_E2E)"
   ]
  },
  {
   "cell_type": "code",
   "execution_count": 12,
   "metadata": {},
   "outputs": [
    {
     "name": "stderr",
     "output_type": "stream",
     "text": [
      "100%|███████████████████████████████████████████████████████████| 499/499 [00:00<00:00, 5561.87it/s]\n"
     ]
    },
    {
     "data": {
      "image/png": "[encoded data removed]",
      "text/plain": [
       "<Figure size 300x200 with 2 Axes>"
      ]
     },
     "metadata": {},
     "output_type": "display_data"
    }
   ],
   "source": [
    "hE0 = rng.normal(loc=-10, scale=0.5, size=NE)\n",
    "hI0 = rng.normal(loc=-1, scale=0.5, size=NI)\n",
    "aux = [np.zeros_like(rH[:500])+rH[:500].mean(axis=1)[:,None], \n",
    "       np.zeros_like(aud[:500])+aud[:500].mean(axis=1)[:,None]]\n",
    "_ = net.sim(hE0, hI0, *aux, [], 500, dt, 0)\n",
    "rE, rI, _, _, hE = _\n",
    "ee_in = (net.JEE @ rE.T).T.mean(axis=0)\n",
    "ei_in = (net.JEI @ rI.T).T.mean(axis=0)\n",
    "_ = np.linspace(-10, 6)\n",
    "fig, ax = plt.subplots(1, figsize=(3, 2))\n",
    "ax = [ax, ax.twinx()]\n",
    "ax[1].spines.right.set_visible(True)\n",
    "ax[0].hist([ee_in-ei_in, -ei_in, ee_in], bins=15, density=True, \n",
    "           histtype='stepfilled', alpha=0.8, color=['grey', 'r', 'b'],\n",
    "           label=[r'net input', r'I$\\to$E input', r'E$\\to$E input'])\n",
    "ax[0].plot(0, 0, c='k', label='f-I curve')\n",
    "ax[0].legend(loc=(0.05, 0.28))\n",
    "ax[1].plot(_, EINet.phi(_, *net.phiE), color='k', zorder=10)\n",
    "ax[0].set(ylabel='density', xlabel='input strength', ylim=[0, 2])\n",
    "ax[0].set_title('Distributions of recurrent inputs,\\ncompared to the f-I curve', fontsize=10)\n",
    "ax[1].set(ylim=[0, 105], ylabel='firing rate (Hz)')\n",
    "fig.savefig('../svg/show_EI_balance.svg', transparent=True)"
   ]
  },
  {
   "cell_type": "code",
   "execution_count": null,
   "metadata": {},
   "outputs": [],
   "source": []
  }
 ],
 "metadata": {
  "kernelspec": {
   "display_name": "basic-analysis",
   "language": "python",
   "name": "basic-analysis"
  },
  "language_info": {
   "codemirror_mode": {
    "name": "ipython",
    "version": 3
   },
   "file_extension": ".py",
   "mimetype": "text/x-python",
   "name": "python",
   "nbconvert_exporter": "python",
   "pygments_lexer": "ipython3",
   "version": "3.13.3"
  }
 },
 "nbformat": 4,
 "nbformat_minor": 4
}

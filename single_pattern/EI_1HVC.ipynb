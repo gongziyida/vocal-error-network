{
 "cells": [
  {
   "cell_type": "code",
   "execution_count": 1,
   "metadata": {},
   "outputs": [],
   "source": [
    "import numpy as np\n",
    "from scipy.special import erf, erfinv\n",
    "from matplotlib import colormaps\n",
    "import matplotlib.pyplot as plt\n",
    "from models import *\n",
    "from train_funcs import *\n",
    "from visualization import *\n",
    "rng = np.random.default_rng()"
   ]
  },
  {
   "cell_type": "code",
   "execution_count": 2,
   "metadata": {},
   "outputs": [],
   "source": [
    "NE, NI, N_syl, N_HVC_per_syl = 600, 150, 1, 1\n",
    "N_HVC = N_syl * N_HVC_per_syl"
   ]
  },
  {
   "cell_type": "code",
   "execution_count": 3,
   "metadata": {},
   "outputs": [],
   "source": [
    "peak_rate, kernel_width = 150, 50"
   ]
  },
  {
   "cell_type": "code",
   "execution_count": 4,
   "metadata": {},
   "outputs": [],
   "source": [
    "T_rend = kernel_width # Each rendition\n",
    "N_rend = 100 # Number of renditions\n",
    "T_burn = 500 # Burning\n",
    "T = T_burn + N_rend * T_rend # Total"
   ]
  },
  {
   "cell_type": "code",
   "execution_count": 5,
   "metadata": {},
   "outputs": [],
   "source": [
    "# Syllables and time stamps\n",
    "# ( Number of syllables , Number of renditions )\n",
    "_ = np.arange(0, T - T_burn + T_rend, T_rend) # start and end time of each rendition\n",
    "# start and end time of each syllabus; inter-rendition interval = duration of a syllabus\n",
    "_ = np.linspace(_[:-1], _[1:], num=N_syl+1, endpoint=True) + T_burn\n",
    "tsyl_start, tsyl_end = _[:-1], _[1:]\n",
    "tsyl_start, tsyl_end = np.round(tsyl_start), np.round(tsyl_end)\n",
    "\n",
    "syl = rng.normal(1, 2, size=(N_syl, NE))#.clip(min=0)\n",
    "syl_rand = syl.copy()\n",
    "rng.shuffle(syl_rand, axis=1)\n",
    "save_W_ts = np.round(tsyl_end[-1,:-1]).astype(int)"
   ]
  },
  {
   "cell_type": "code",
   "execution_count": 6,
   "metadata": {},
   "outputs": [],
   "source": [
    "rH = np.zeros((T, N_HVC))\n",
    "for i in range(N_HVC):\n",
    "    bt = (tsyl_start[0] + i * kernel_width).astype(int)\n",
    "    for b in bt:\n",
    "        rH[b:b+kernel_width,i] = peak_rate"
   ]
  },
  {
   "cell_type": "code",
   "execution_count": 7,
   "metadata": {},
   "outputs": [
    {
     "data": {
      "text/plain": [
       "[<matplotlib.lines.Line2D at 0x7ad1257e5ae0>]"
      ]
     },
     "execution_count": 7,
     "metadata": {},
     "output_type": "execute_result"
    },
    {
     "data": {
      "image/png": "[encoded data removed]",
      "text/plain": [
       "<Figure size 640x480 with 1 Axes>"
      ]
     },
     "metadata": {},
     "output_type": "display_data"
    }
   ],
   "source": [
    "plt.plot(rH[:T_burn+T_rend*3])"
   ]
  },
  {
   "cell_type": "code",
   "execution_count": 8,
   "metadata": {},
   "outputs": [],
   "source": [
    "# (T, NE)\n",
    "aud = generate_discrete_aud(T, NE, tsyl_start, tsyl_end, syl)"
   ]
  },
  {
   "cell_type": "code",
   "execution_count": 12,
   "metadata": {},
   "outputs": [],
   "source": [
    "rEmax, rImax, thE, thI, sE, sI = 50, 100, -4, 0, 2, 2\n",
    "phiE = lambda x: rEmax/2 * (1 + erf((x - thE) / (np.sqrt(2) * sE)))\n",
    "phiI = lambda x: rImax/2 * (1 + erf((x - thI) / (np.sqrt(2) * sI)))\n",
    "\n",
    "def quick_net(gamma, w0_mean, w_inh, \n",
    "              JEE0=1, JEI0=1.7, JIE0=1.2, JII0=1.8, wI=0, tauE=30, tauI=10):\n",
    "    gen = lognormal_gen\n",
    "    # gen = const_gen\n",
    "    c = 1\n",
    "    sEE, sEI, sIE, sII = np.array([JEE0, JEI0, JIE0, JII0]) * gamma\n",
    "    # sEE *= 1.3\n",
    "    JEE = generate_matrix(NE, NE, gen, c, rng=rng, mean=JEE0, std=sEE) / np.sqrt(NE)\n",
    "    JEI = generate_matrix(NE, NI, gen, c, rng=rng, mean=JEI0, std=sEI) / np.sqrt(NI)\n",
    "    JIE = generate_matrix(NI, NE, gen, c, rng=rng, mean=JIE0, std=sIE) / np.sqrt(NE)\n",
    "    JII = generate_matrix(NI, NI, gen, c, rng=rng, mean=JII0, std=sII) / np.sqrt(NI)\n",
    "\n",
    "    net = EINet(NE, NI, N_HVC, w0_mean, phiE, phiI, tauE, tauI, w0_std=w0_mean/2,\n",
    "                JEE=JEE, JEI=JEI, JIE=JIE, JII=JII, w_inh=w_inh, wI=wI)\n",
    "    return net"
   ]
  },
  {
   "cell_type": "code",
   "execution_count": null,
   "metadata": {},
   "outputs": [],
   "source": [
    "plasticity_kwargs = dict(plasticity=dict(HVC=bilin_hebb_E_HVC), \n",
    "                         lr=dict(HVC=-8e-2), tauW=1e5, asyn_H=0, rE_th=1)\n",
    "dt = 1\n",
    "hE0 = rng.normal(loc=-10, scale=0.5, size=NE)\n",
    "hI0 = rng.normal(loc=-1, scale=0.5, size=NI)"
   ]
  },
  {
   "cell_type": "code",
   "execution_count": 14,
   "metadata": {},
   "outputs": [],
   "source": [
    "w0_mean = 0.1/N_HVC\n",
    "w_inh = w0_mean\n",
    "net_fp = quick_net(0.1, w0_mean, w_inh)\n",
    "net_lc = quick_net(0.3, w0_mean, w_inh)"
   ]
  },
  {
   "cell_type": "code",
   "execution_count": 15,
   "metadata": {},
   "outputs": [
    {
     "name": "stderr",
     "output_type": "stream",
     "text": [
      "100%|█████████████████████████████████████| 1999/1999 [00:00<00:00, 4110.58it/s]\n",
      "100%|█████████████████████████████████████| 1999/1999 [00:00<00:00, 3340.75it/s]\n",
      "100%|█████████████████████████████████████| 1999/1999 [00:00<00:00, 3053.55it/s]\n",
      "100%|█████████████████████████████████████| 1999/1999 [00:00<00:00, 2841.97it/s]\n",
      "100%|█████████████████████████████████████| 5499/5499 [00:02<00:00, 2568.33it/s]\n",
      "100%|█████████████████████████████████████| 1999/1999 [00:00<00:00, 4717.23it/s]\n",
      "100%|█████████████████████████████████████| 1999/1999 [00:00<00:00, 4597.91it/s]\n",
      "100%|█████████████████████████████████████| 1999/1999 [00:00<00:00, 4840.52it/s]\n",
      "100%|█████████████████████████████████████| 1999/1999 [00:00<00:00, 4929.48it/s]\n"
     ]
    }
   ],
   "source": [
    "train_fp = net_fp.sim(hE0, hI0, rH, aud, save_W_ts, T, dt, 0, **plasticity_kwargs)"
   ]
  },
  {
   "cell_type": "code",
   "execution_count": 15,
   "metadata": {},
   "outputs": [
    {
     "name": "stderr",
     "output_type": "stream",
     "text": [
      "100%|█████████████████████████████████████| 1999/1999 [00:00<00:00, 4110.58it/s]\n",
      "100%|█████████████████████████████████████| 1999/1999 [00:00<00:00, 3340.75it/s]\n",
      "100%|█████████████████████████████████████| 1999/1999 [00:00<00:00, 3053.55it/s]\n",
      "100%|█████████████████████████████████████| 1999/1999 [00:00<00:00, 2841.97it/s]\n",
      "100%|█████████████████████████████████████| 5499/5499 [00:02<00:00, 2568.33it/s]\n",
      "100%|█████████████████████████████████████| 1999/1999 [00:00<00:00, 4717.23it/s]\n",
      "100%|█████████████████████████████████████| 1999/1999 [00:00<00:00, 4597.91it/s]\n",
      "100%|█████████████████████████████████████| 1999/1999 [00:00<00:00, 4840.52it/s]\n",
      "100%|█████████████████████████████████████| 1999/1999 [00:00<00:00, 4929.48it/s]\n"
     ]
    }
   ],
   "source": [
    "train_lc = net_lc.sim(hE0, hI0, rH, aud, save_W_ts, T, dt, 0, **plasticity_kwargs)"
   ]
  },
  {
   "cell_type": "code",
   "execution_count": 17,
   "metadata": {},
   "outputs": [
    {
     "data": {
      "image/png": "[encoded data removed]",
      "text/plain": [
       "<Figure size 500x400 with 4 Axes>"
      ]
     },
     "metadata": {},
     "output_type": "display_data"
    }
   ],
   "source": [
    "fig, ax = plt.subplots(2, 2, figsize=(5, 4), sharex='all', sharey='row')\n",
    "\n",
    "ti = int(tsyl_start[0,0]) # when to start\n",
    "\n",
    "for k, (tr, l) in enumerate(zip((train_fp, train_lc), ('FP', 'Seq'))):\n",
    "    c0_lhs, c0_rhs = [0], [0]\n",
    "    sig_w_lhs, sig_w_rhs = [0], [0]\n",
    "    corr_u_lhs, corr_u_rhs = [0], [0]\n",
    "    corr_xi_lhs, corr_xi_rhs = [0], [0]\n",
    "    for i, W in enumerate(tr[2][1:]):\n",
    "        t_star = int(tsyl_end[0,i] - 5 - 1) # the last of tsyl_end is len so -1\n",
    "        sig = tr[-1][t_star].std() # noise std at t*\n",
    "        \n",
    "        # c0: W mean\n",
    "        rE_mean = tr[0][int(tsyl_start[0,0])-50:int(tsyl_start[0,0])].mean()\n",
    "        d0 = np.sqrt(2 * np.pi) * sE * (1 - rE_mean) / rEmax\n",
    "        c0_lhs.append(W.mean())\n",
    "        c0_rhs.append((d0 - syl.mean()) / peak_rate + w_inh)\n",
    "\n",
    "        # sig_w: W std\n",
    "        sig_w_lhs.append(W.std())\n",
    "        # sig_w_rhs.append(np.sqrt((sig / peak_rate)**2 + c_xi**2))\n",
    "        sig_w_rhs.append(np.sqrt(sig**2 + syl.var()) / peak_rate)\n",
    "    \n",
    "        # corr between W(t*) and (normalized) xi\n",
    "        corr_xi_lhs.append(correlation(syl[0], W.T)[0])\n",
    "        corr_xi_rhs.append(-syl[0].std() / W.std() / peak_rate)\n",
    "        \n",
    "        # corr between W(t*) and epsilon(t*)\n",
    "        corr_u_lhs.append(correlation(tr[-1][t_star], W[:,0], dim=1))\n",
    "        corr_u_rhs.append((-sig / W.std() / peak_rate).mean())\n",
    "\n",
    "    color, l1, l2 = 'C%d' % k, l + ' (simulation)', l + ' (theory)'\n",
    "    ax[0,0].plot(c0_lhs, c=color, label=l1)\n",
    "    ax[0,0].plot(c0_rhs, c=color, ls='--', label=l2)\n",
    "    ax[0,1].plot(sig_w_lhs, c=color, label=l1)\n",
    "    ax[0,1].plot(sig_w_rhs, c=color, ls='--', label=l2)\n",
    "    ax[1,0].plot(corr_xi_lhs, c=color, label=l1)\n",
    "    ax[1,0].plot(corr_xi_rhs, c=color, ls='--', label=l2)\n",
    "    ax[1,1].plot(corr_u_lhs, c=color, label=l1)\n",
    "    ax[1,1].plot(corr_u_rhs, c=color, ls='--', label=l2)\n",
    "    \n",
    "ax[1,0].set(ylim=[-1, 1], xlabel='Rendition', yticks=[-1, 0, 1])\n",
    "ax[1,1].set(xlabel='Rendition')\n",
    "ax[0,0].set_title(r'$c^*_0$')\n",
    "ax[0,1].set_title(r'$\\sigma^*_w$')\n",
    "ax[1,0].set_title(r'$c^*_\\xi / \\sigma^*_w$')\n",
    "ax[1,1].set_title(r'$\\rho^*_u / \\sigma^*_w$') \n",
    "ax[0,0].legend(labelspacing=0.2)\n",
    "fig.tight_layout()"
   ]
  },
  {
   "cell_type": "code",
   "execution_count": null,
   "metadata": {},
   "outputs": [],
   "source": []
  }
 ],
 "metadata": {
  "kernelspec": {
   "display_name": "Python 3 (ipykernel)",
   "language": "python",
   "name": "python3"
  },
  "language_info": {
   "codemirror_mode": {
    "name": "ipython",
    "version": 3
   },
   "file_extension": ".py",
   "mimetype": "text/x-python",
   "name": "python",
   "nbconvert_exporter": "python",
   "pygments_lexer": "ipython3",
   "version": "3.10.12"
  }
 },
 "nbformat": 4,
 "nbformat_minor": 4
}
